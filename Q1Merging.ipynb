{
 "cells": [
  {
   "cell_type": "code",
   "execution_count": 1,
   "id": "6fc47321",
   "metadata": {},
   "outputs": [],
   "source": [
    "import pandas as pd"
   ]
  },
  {
   "cell_type": "code",
   "execution_count": 2,
   "id": "73d08d89",
   "metadata": {},
   "outputs": [],
   "source": [
    "data1 = {\n",
    "    'ID': [1, 2, 3, 4, 5],\n",
    "    'Name': ['Alice', 'Bob', 'Charlie', 'David', 'Emma'],\n",
    "    'Age': [25, 30, 35, 40, 45]\n",
    "}\n",
    "\n",
    "data2 = {\n",
    "    'ID': [1, 2, 3, 4, 6],\n",
    "    'Department': ['HR', 'Finance', 'Marketing', 'IT', 'Operations'],\n",
    "    'Salary': [50000, 60000, 70000, 80000, 90000]\n",
    "}"
   ]
  },
  {
   "cell_type": "code",
   "execution_count": 3,
   "id": "bcb18e13",
   "metadata": {},
   "outputs": [],
   "source": [
    "# Convert data sets to pandas DataFrames\n",
    "df1 = pd.DataFrame(data1)\n",
    "df2 = pd.DataFrame(data2)"
   ]
  },
  {
   "cell_type": "code",
   "execution_count": 4,
   "id": "001eeb07",
   "metadata": {},
   "outputs": [],
   "source": [
    "# a. Creating data subsets\n",
    "# Subset of rows where Age is greater than 30\n",
    "subset_age_greater_than_30 = df1[df1['Age'] > 30]"
   ]
  },
  {
   "cell_type": "code",
   "execution_count": 6,
   "id": "e1a170c9",
   "metadata": {},
   "outputs": [],
   "source": [
    "# Subset of rows where Department is 'HR'\n",
    "subset_department_hr = df2[df2['Department'] == 'HR']"
   ]
  },
  {
   "cell_type": "code",
   "execution_count": 7,
   "id": "d32f229e",
   "metadata": {},
   "outputs": [
    {
     "name": "stdout",
     "output_type": "stream",
     "text": [
      "Subset where Age > 30:\n",
      "   ID     Name  Age\n",
      "2   3  Charlie   35\n",
      "3   4    David   40\n",
      "4   5     Emma   45\n",
      "\n",
      "Subset where Department is 'HR':\n",
      "   ID Department  Salary\n",
      "0   1         HR   50000\n"
     ]
    }
   ],
   "source": [
    "print(\"Subset where Age > 30:\")\n",
    "print(subset_age_greater_than_30)\n",
    "print(\"\\nSubset where Department is 'HR':\")\n",
    "print(subset_department_hr)"
   ]
  },
  {
   "cell_type": "code",
   "execution_count": 8,
   "id": "d643dd3c",
   "metadata": {},
   "outputs": [],
   "source": [
    "# b. Merging data\n",
    "# Merge data frames on 'ID'\n",
    "merged_data = pd.merge(df1, df2, on='ID', how='inner')"
   ]
  },
  {
   "cell_type": "code",
   "execution_count": 9,
   "id": "9bbffdc2",
   "metadata": {},
   "outputs": [
    {
     "name": "stdout",
     "output_type": "stream",
     "text": [
      "\n",
      "Merged Data:\n",
      "   ID     Name  Age Department  Salary\n",
      "0   1    Alice   25         HR   50000\n",
      "1   2      Bob   30    Finance   60000\n",
      "2   3  Charlie   35  Marketing   70000\n",
      "3   4    David   40         IT   80000\n"
     ]
    }
   ],
   "source": [
    "# Display merged data\n",
    "print(\"\\nMerged Data:\")\n",
    "print(merged_data)"
   ]
  },
  {
   "cell_type": "code",
   "execution_count": 49,
   "id": "4780dc05",
   "metadata": {},
   "outputs": [],
   "source": [
    "#New Answer \n",
    "import pandas as pd  "
   ]
  },
  {
   "cell_type": "code",
   "execution_count": 50,
   "id": "6048d0d3",
   "metadata": {},
   "outputs": [],
   "source": [
    "#Dataframe\n",
    "data = {\"Roll-num\": [10,20,30,40,50,60,70], \"Age\":[12,14,13,12,14,13,15], \n",
    "\"NAME\":['John','Camili','Rheana','Joseph','Amanti','Alexa','Siri']}\n"
   ]
  },
  {
   "cell_type": "code",
   "execution_count": 51,
   "id": "06139bb7",
   "metadata": {},
   "outputs": [],
   "source": [
    "block = pd.DataFrame(data) "
   ]
  },
  {
   "cell_type": "code",
   "execution_count": 52,
   "id": "cd03131a",
   "metadata": {},
   "outputs": [
    {
     "name": "stdout",
     "output_type": "stream",
     "text": [
      "   Roll-num  Age    NAME\n",
      "0        10   12    John\n",
      "1        20   14  Camili\n",
      "2        30   13  Rheana\n",
      "3        40   12  Joseph\n",
      "4        50   14  Amanti\n",
      "5        60   13   Alexa\n",
      "6        70   15    Siri\n"
     ]
    }
   ],
   "source": [
    "print(block) "
   ]
  },
  {
   "cell_type": "code",
   "execution_count": 53,
   "id": "43ac4fce",
   "metadata": {},
   "outputs": [
    {
     "name": "stdout",
     "output_type": "stream",
     "text": [
      "   Roll-num  Age    NAME\n",
      "0        10   12    John\n",
      "1        20   14  Camili\n",
      "3        40   12  Joseph\n"
     ]
    }
   ],
   "source": [
    "print(block.loc[[0,1,3]]) "
   ]
  },
  {
   "cell_type": "code",
   "execution_count": 54,
   "id": "0360f9b8",
   "metadata": {},
   "outputs": [
    {
     "name": "stdout",
     "output_type": "stream",
     "text": [
      "   Roll-num  Age    NAME\n",
      "0        10   12    John\n",
      "1        20   14  Camili\n",
      "2        30   13  Rheana\n",
      "3        40   12  Joseph\n"
     ]
    }
   ],
   "source": [
    "print(block.loc[0:3]) "
   ]
  },
  {
   "cell_type": "code",
   "execution_count": 55,
   "id": "0e03863a",
   "metadata": {},
   "outputs": [
    {
     "name": "stdout",
     "output_type": "stream",
     "text": [
      "   Age    NAME\n",
      "0   12    John\n",
      "1   14  Camili\n",
      "2   13  Rheana\n"
     ]
    }
   ],
   "source": [
    "print(block.loc[0:2,['Age','NAME']]) "
   ]
  },
  {
   "cell_type": "code",
   "execution_count": 56,
   "id": "7c7b9f7c",
   "metadata": {},
   "outputs": [
    {
     "name": "stdout",
     "output_type": "stream",
     "text": [
      "   Roll-num    NAME\n",
      "0        10    John\n",
      "1        20  Camili\n",
      "3        40  Joseph\n",
      "6        70    Siri\n"
     ]
    }
   ],
   "source": [
    "print(block.iloc[[0,1,3,6],[0,2]]) "
   ]
  },
  {
   "cell_type": "code",
   "execution_count": 57,
   "id": "b727d74e",
   "metadata": {},
   "outputs": [],
   "source": [
    "#Merging\n",
    "d1 = {'Name': ['Pankaj', 'Meghna', 'Lisa'], 'Country': ['India', 'India', 'USA'], 'Role': ['CEO', \n",
    "'CTO', 'CTO']}"
   ]
  },
  {
   "cell_type": "code",
   "execution_count": 58,
   "id": "3aff6051",
   "metadata": {},
   "outputs": [],
   "source": [
    "df1 = pd.DataFrame(d1) "
   ]
  },
  {
   "cell_type": "code",
   "execution_count": 59,
   "id": "2a5baa86",
   "metadata": {},
   "outputs": [
    {
     "name": "stdout",
     "output_type": "stream",
     "text": [
      "DataFrame 1:\n",
      "      Name Country Role\n",
      "0  Pankaj   India  CEO\n",
      "1  Meghna   India  CTO\n",
      "2    Lisa     USA  CTO\n"
     ]
    }
   ],
   "source": [
    "print('DataFrame 1:\\n', df1) \n"
   ]
  },
  {
   "cell_type": "code",
   "execution_count": 60,
   "id": "f2c3ab64",
   "metadata": {},
   "outputs": [],
   "source": [
    "df2 = pd.DataFrame({'ID': [1, 2, 3], 'Name': ['Pankaj', 'Anupam', 'Amit']}) "
   ]
  },
  {
   "cell_type": "code",
   "execution_count": 61,
   "id": "148fc3c1",
   "metadata": {},
   "outputs": [
    {
     "name": "stdout",
     "output_type": "stream",
     "text": [
      "DataFrame 2:\n",
      "    ID    Name\n",
      "0   1  Pankaj\n",
      "1   2  Anupam\n",
      "2   3    Amit\n"
     ]
    }
   ],
   "source": [
    "print('DataFrame 2:\\n', df2) "
   ]
  },
  {
   "cell_type": "code",
   "execution_count": 62,
   "id": "a62c3609",
   "metadata": {},
   "outputs": [],
   "source": [
    "df_merged = df1.merge(df2) "
   ]
  },
  {
   "cell_type": "code",
   "execution_count": 63,
   "id": "9cbfe00f",
   "metadata": {},
   "outputs": [
    {
     "name": "stdout",
     "output_type": "stream",
     "text": [
      "Result Inner Join:\n",
      "      Name Country Role  ID\n",
      "0  Pankaj   India  CEO   1\n"
     ]
    }
   ],
   "source": [
    "print('Result Inner Join:\\n', df_merged) "
   ]
  },
  {
   "cell_type": "code",
   "execution_count": 64,
   "id": "f3c4d31e",
   "metadata": {},
   "outputs": [
    {
     "name": "stdout",
     "output_type": "stream",
     "text": [
      "Result Left Join:\n",
      "      Name Country Role   ID\n",
      "0  Pankaj   India  CEO  1.0\n",
      "1  Meghna   India  CTO  NaN\n",
      "2    Lisa     USA  CTO  NaN\n"
     ]
    }
   ],
   "source": [
    "print('Result Left Join:\\n', df1.merge(df2, how='left')) "
   ]
  },
  {
   "cell_type": "code",
   "execution_count": 65,
   "id": "b9e05686",
   "metadata": {},
   "outputs": [
    {
     "name": "stdout",
     "output_type": "stream",
     "text": [
      "Result Right Join:\n",
      "      Name Country Role  ID\n",
      "0  Pankaj   India  CEO   1\n",
      "1  Anupam     NaN  NaN   2\n",
      "2    Amit     NaN  NaN   3\n"
     ]
    }
   ],
   "source": [
    "print('Result Right Join:\\n', df1.merge(df2, how='right')) "
   ]
  },
  {
   "cell_type": "code",
   "execution_count": 66,
   "id": "d0fd1322",
   "metadata": {},
   "outputs": [
    {
     "name": "stdout",
     "output_type": "stream",
     "text": [
      "Result Outer Join:\n",
      "      Name Country Role   ID\n",
      "0  Pankaj   India  CEO  1.0\n",
      "1  Meghna   India  CTO  NaN\n",
      "2    Lisa     USA  CTO  NaN\n",
      "3  Anupam     NaN  NaN  2.0\n",
      "4    Amit     NaN  NaN  3.0\n"
     ]
    }
   ],
   "source": [
    "print('Result Outer Join:\\n', df1.merge(df2, how='outer')) "
   ]
  },
  {
   "cell_type": "code",
   "execution_count": null,
   "id": "3df46abe",
   "metadata": {},
   "outputs": [],
   "source": []
  }
 ],
 "metadata": {
  "kernelspec": {
   "display_name": "Python 3 (ipykernel)",
   "language": "python",
   "name": "python3"
  },
  "language_info": {
   "codemirror_mode": {
    "name": "ipython",
    "version": 3
   },
   "file_extension": ".py",
   "mimetype": "text/x-python",
   "name": "python",
   "nbconvert_exporter": "python",
   "pygments_lexer": "ipython3",
   "version": "3.11.4"
  }
 },
 "nbformat": 4,
 "nbformat_minor": 5
}
