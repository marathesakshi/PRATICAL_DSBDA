{
 "cells": [
  {
   "cell_type": "code",
   "execution_count": null,
   "id": "236b1242",
   "metadata": {},
   "outputs": [],
   "source": []
  },
  {
   "cell_type": "code",
   "execution_count": null,
   "id": "28370081",
   "metadata": {},
   "outputs": [],
   "source": [
    "import requests\n",
    "from bs4 import BeautifulSoup\n",
    "import csv\n",
    "\n",
    "def scrape_amazon_reviews(product_url):\n",
    "    headers = {\n",
    "        'User-Agent': 'Your User Agent String',\n",
    "    }\n",
    "\n",
    "    response = requests.get(product_url, headers=headers)\n",
    "    soup = BeautifulSoup(response.content, 'html.parser')\n",
    "\n",
    "    product_name = soup.find('span', {'id': 'productTitle'}).get_text().strip()\n",
    "    reviews = soup.find_all('div', {'data-hook': 'review'})\n",
    "\n",
    "    data = []\n",
    "    for review in reviews:\n",
    "        rating = review.find('i', {'data-hook': 'review-star-rating'}).get_text().split()[0]\n",
    "        text = review.find('span', {'data-hook': 'review-body'}).get_text().strip()\n",
    "        data.append({'Product Name': product_name, 'Rating': rating, 'Review': text})\n",
    "\n",
    "    return data\n",
    "\n",
    "def save_to_csv(data, filename):\n",
    "    with open(filename, 'w', newline='', encoding='utf-8') as file:\n",
    "        writer = csv.DictWriter(file, fieldnames=['Product Name', 'Rating', 'Review'])\n",
    "        writer.writeheader()\n",
    "        writer.writerows(data)\n",
    "\n",
    "if __name__ == \"__main__\":\n",
    "    product_url = input(\"Enter the Amazon product URL: \")\n",
    "    data = scrape_amazon_reviews(product_url)\n",
    "    save_to_csv(data, 'amazon_reviews.csv')\n"
   ]
  },
  {
   "cell_type": "code",
   "execution_count": null,
   "id": "1a49dd7a",
   "metadata": {},
   "outputs": [],
   "source": []
  }
 ],
 "metadata": {
  "kernelspec": {
   "display_name": "Python 3 (ipykernel)",
   "language": "python",
   "name": "python3"
  },
  "language_info": {
   "codemirror_mode": {
    "name": "ipython",
    "version": 3
   },
   "file_extension": ".py",
   "mimetype": "text/x-python",
   "name": "python",
   "nbconvert_exporter": "python",
   "pygments_lexer": "ipython3",
   "version": "3.11.4"
  }
 },
 "nbformat": 4,
 "nbformat_minor": 5
}
