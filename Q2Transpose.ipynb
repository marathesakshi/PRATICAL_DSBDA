{
 "cells": [
  {
   "cell_type": "code",
   "execution_count": 1,
   "id": "b29cfb28",
   "metadata": {},
   "outputs": [],
   "source": [
    "import pandas as pd  "
   ]
  },
  {
   "cell_type": "code",
   "execution_count": 22,
   "id": "8596c022",
   "metadata": {},
   "outputs": [],
   "source": [
    "#Sorting\n",
    "csvData = pd.read_csv(\"C:/Users/SAKSHI MARATHE/Downloads/records.csv\")        "
   ]
  },
  {
   "cell_type": "code",
   "execution_count": 23,
   "id": "bb7e012f",
   "metadata": {},
   "outputs": [
    {
     "name": "stdout",
     "output_type": "stream",
     "text": [
      "\n",
      "Before sorting:\n"
     ]
    }
   ],
   "source": [
    "print(\"\\nBefore sorting:\") "
   ]
  },
  {
   "cell_type": "code",
   "execution_count": 24,
   "id": "88f91d5d",
   "metadata": {},
   "outputs": [
    {
     "name": "stdout",
     "output_type": "stream",
     "text": [
      "   ID    Name    Role  Salary\n",
      "0   1  Pankaj  Editor   10000\n",
      "1   2    Lisa  Editor    8000\n",
      "2   3   David  Author    6000\n",
      "3   4     Ram  Author    4000\n",
      "4   5  Anupam  Author    5000\n"
     ]
    }
   ],
   "source": [
    "print(csvData) "
   ]
  },
  {
   "cell_type": "code",
   "execution_count": 25,
   "id": "96020442",
   "metadata": {},
   "outputs": [],
   "source": [
    "csvData.sort_values([\"Salary\"], axis=0, ascending=[False], inplace=True) "
   ]
  },
  {
   "cell_type": "code",
   "execution_count": 26,
   "id": "cf917e67",
   "metadata": {},
   "outputs": [],
   "source": [
    "csvData.sort_values([\"Salary\"], axis=0, ascending=[True], inplace=True) "
   ]
  },
  {
   "cell_type": "code",
   "execution_count": 27,
   "id": "42f05ac7",
   "metadata": {},
   "outputs": [
    {
     "name": "stdout",
     "output_type": "stream",
     "text": [
      "\n",
      "After sorting:\n"
     ]
    }
   ],
   "source": [
    "print(\"\\nAfter sorting:\") "
   ]
  },
  {
   "cell_type": "code",
   "execution_count": 28,
   "id": "ecfd83f7",
   "metadata": {},
   "outputs": [
    {
     "name": "stdout",
     "output_type": "stream",
     "text": [
      "   ID    Name    Role  Salary\n",
      "3   4     Ram  Author    4000\n",
      "4   5  Anupam  Author    5000\n",
      "2   3   David  Author    6000\n",
      "1   2    Lisa  Editor    8000\n",
      "0   1  Pankaj  Editor   10000\n"
     ]
    }
   ],
   "source": [
    "print(csvData) "
   ]
  },
  {
   "cell_type": "code",
   "execution_count": 33,
   "id": "5c6bd676",
   "metadata": {},
   "outputs": [],
   "source": [
    "#transpose\n",
    "df = pd.read_csv(\"C:/Users/SAKSHI MARATHE/Downloads/records.csv\") "
   ]
  },
  {
   "cell_type": "code",
   "execution_count": 34,
   "id": "48a03140",
   "metadata": {},
   "outputs": [
    {
     "name": "stdout",
     "output_type": "stream",
     "text": [
      "   ID    Name    Role  Salary\n",
      "0   1  Pankaj  Editor   10000\n",
      "1   2    Lisa  Editor    8000\n",
      "2   3   David  Author    6000\n",
      "3   4     Ram  Author    4000\n",
      "4   5  Anupam  Author    5000\n"
     ]
    }
   ],
   "source": [
    "print(df) "
   ]
  },
  {
   "cell_type": "code",
   "execution_count": 35,
   "id": "f596b500",
   "metadata": {},
   "outputs": [
    {
     "name": "stdout",
     "output_type": "stream",
     "text": [
      "             0       1       2       3       4\n",
      "ID           1       2       3       4       5\n",
      "Name    Pankaj    Lisa   David     Ram  Anupam\n",
      "Role    Editor  Editor  Author  Author  Author\n",
      "Salary   10000    8000    6000    4000    5000\n"
     ]
    }
   ],
   "source": [
    "print(df.T) "
   ]
  },
  {
   "cell_type": "code",
   "execution_count": 36,
   "id": "929e81d4",
   "metadata": {},
   "outputs": [
    {
     "name": "stdout",
     "output_type": "stream",
     "text": [
      "(5, 4)\n"
     ]
    }
   ],
   "source": [
    "print(df.shape)"
   ]
  },
  {
   "cell_type": "code",
   "execution_count": 37,
   "id": "1f4d915a",
   "metadata": {},
   "outputs": [
    {
     "name": "stdout",
     "output_type": "stream",
     "text": [
      "20\n"
     ]
    }
   ],
   "source": [
    "print(df.size) "
   ]
  },
  {
   "cell_type": "code",
   "execution_count": 40,
   "id": "8ad93b4d",
   "metadata": {},
   "outputs": [],
   "source": [
    "#Shape\n",
    "df = pd.read_csv(\"C:/Users/SAKSHI MARATHE/Downloads/records.csv\") "
   ]
  },
  {
   "cell_type": "code",
   "execution_count": 41,
   "id": "1b6dae87",
   "metadata": {},
   "outputs": [
    {
     "name": "stdout",
     "output_type": "stream",
     "text": [
      "(5, 4)\n"
     ]
    }
   ],
   "source": [
    "print(df.shape) "
   ]
  },
  {
   "cell_type": "code",
   "execution_count": 42,
   "id": "9713d5fe",
   "metadata": {},
   "outputs": [
    {
     "name": "stdout",
     "output_type": "stream",
     "text": [
      "20\n"
     ]
    }
   ],
   "source": [
    "print(df.size) "
   ]
  },
  {
   "cell_type": "code",
   "execution_count": 43,
   "id": "a6df55b5",
   "metadata": {},
   "outputs": [],
   "source": [
    "#reshape\n",
    "import numpy as np"
   ]
  },
  {
   "cell_type": "code",
   "execution_count": 44,
   "id": "c9e0e8c3",
   "metadata": {},
   "outputs": [],
   "source": [
    "arr = np.array([1, 2, 3, 4, 5, 6, 7, 8, 9, 10, 11, 12])"
   ]
  },
  {
   "cell_type": "code",
   "execution_count": 45,
   "id": "09cda37a",
   "metadata": {},
   "outputs": [],
   "source": [
    "newarr = arr.reshape(4, 3)"
   ]
  },
  {
   "cell_type": "code",
   "execution_count": 46,
   "id": "8695d1b1",
   "metadata": {},
   "outputs": [
    {
     "name": "stdout",
     "output_type": "stream",
     "text": [
      "[[ 1  2  3]\n",
      " [ 4  5  6]\n",
      " [ 7  8  9]\n",
      " [10 11 12]]\n"
     ]
    }
   ],
   "source": [
    "print(newarr)"
   ]
  },
  {
   "cell_type": "code",
   "execution_count": null,
   "id": "fafa08b3",
   "metadata": {},
   "outputs": [],
   "source": []
  }
 ],
 "metadata": {
  "kernelspec": {
   "display_name": "Python 3 (ipykernel)",
   "language": "python",
   "name": "python3"
  },
  "language_info": {
   "codemirror_mode": {
    "name": "ipython",
    "version": 3
   },
   "file_extension": ".py",
   "mimetype": "text/x-python",
   "name": "python",
   "nbconvert_exporter": "python",
   "pygments_lexer": "ipython3",
   "version": "3.11.4"
  }
 },
 "nbformat": 4,
 "nbformat_minor": 5
}
