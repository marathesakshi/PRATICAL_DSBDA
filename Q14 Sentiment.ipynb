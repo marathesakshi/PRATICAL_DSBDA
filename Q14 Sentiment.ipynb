{
 "cells": [
  {
   "cell_type": "code",
   "execution_count": 12,
   "id": "36027f78",
   "metadata": {},
   "outputs": [],
   "source": [
    "\n",
    "    from textblob import TextBlob"
   ]
  },
  {
   "cell_type": "code",
   "execution_count": 8,
   "id": "0e862e10",
   "metadata": {},
   "outputs": [
    {
     "name": "stdout",
     "output_type": "stream",
     "text": [
      "Defaulting to user installation because normal site-packages is not writeable\n",
      "Requirement already satisfied: textblob in c:\\users\\sakshi marathe\\appdata\\roaming\\python\\python311\\site-packages (0.18.0.post0)\n",
      "Requirement already satisfied: nltk>=3.8 in c:\\programdata\\anaconda3\\lib\\site-packages (from textblob) (3.8.1)\n",
      "Requirement already satisfied: click in c:\\programdata\\anaconda3\\lib\\site-packages (from nltk>=3.8->textblob) (8.0.4)\n",
      "Requirement already satisfied: joblib in c:\\programdata\\anaconda3\\lib\\site-packages (from nltk>=3.8->textblob) (1.2.0)\n",
      "Requirement already satisfied: regex>=2021.8.3 in c:\\programdata\\anaconda3\\lib\\site-packages (from nltk>=3.8->textblob) (2022.7.9)\n",
      "Requirement already satisfied: tqdm in c:\\programdata\\anaconda3\\lib\\site-packages (from nltk>=3.8->textblob) (4.65.0)\n",
      "Requirement already satisfied: colorama in c:\\programdata\\anaconda3\\lib\\site-packages (from click->nltk>=3.8->textblob) (0.4.6)\n"
     ]
    }
   ],
   "source": [
    "!pip install textblob\n"
   ]
  },
  {
   "cell_type": "code",
   "execution_count": 13,
   "id": "3b55d9db",
   "metadata": {},
   "outputs": [],
   "source": [
    "# Sentences\n",
    "sentence1 = \"The Food at Radison was awesome\"\n",
    "sentence2 = \"The Food at Radison was very good\""
   ]
  },
  {
   "cell_type": "code",
   "execution_count": 14,
   "id": "6d5ab1bf",
   "metadata": {},
   "outputs": [],
   "source": [
    "# Perform sentiment analysis\n",
    "blob1 = TextBlob(sentence1)\n",
    "blob2 = TextBlob(sentence2)\n"
   ]
  },
  {
   "cell_type": "code",
   "execution_count": 15,
   "id": "1da20c27",
   "metadata": {},
   "outputs": [],
   "source": [
    "# Get polarity and subjectivity\n",
    "polarity1 = blob1.sentiment.polarity\n",
    "subjectivity1 = blob1.sentiment.subjectivity"
   ]
  },
  {
   "cell_type": "code",
   "execution_count": 16,
   "id": "63bf93c5",
   "metadata": {},
   "outputs": [],
   "source": [
    "polarity2 = blob2.sentiment.polarity\n",
    "subjectivity2 = blob2.sentiment.subjectivity"
   ]
  },
  {
   "cell_type": "code",
   "execution_count": 17,
   "id": "9c05c916",
   "metadata": {},
   "outputs": [
    {
     "name": "stdout",
     "output_type": "stream",
     "text": [
      "Sentence 1:\n",
      "Polarity: 1.0\n",
      "Subjectivity: 1.0\n"
     ]
    }
   ],
   "source": [
    "# Print results\n",
    "print(\"Sentence 1:\")\n",
    "print(\"Polarity:\", polarity1)\n",
    "print(\"Subjectivity:\", subjectivity1)"
   ]
  },
  {
   "cell_type": "code",
   "execution_count": 18,
   "id": "0bc96fd0",
   "metadata": {},
   "outputs": [
    {
     "name": "stdout",
     "output_type": "stream",
     "text": [
      "\n",
      "Sentence 2:\n",
      "Polarity: 0.9099999999999999\n",
      "Subjectivity: 0.7800000000000001\n"
     ]
    }
   ],
   "source": [
    "print(\"\\nSentence 2:\")\n",
    "print(\"Polarity:\", polarity2)\n",
    "print(\"Subjectivity:\", subjectivity2)"
   ]
  },
  {
   "cell_type": "code",
   "execution_count": null,
   "id": "46b2286e",
   "metadata": {},
   "outputs": [],
   "source": []
  }
 ],
 "metadata": {
  "kernelspec": {
   "display_name": "Python 3 (ipykernel)",
   "language": "python",
   "name": "python3"
  },
  "language_info": {
   "codemirror_mode": {
    "name": "ipython",
    "version": 3
   },
   "file_extension": ".py",
   "mimetype": "text/x-python",
   "name": "python",
   "nbconvert_exporter": "python",
   "pygments_lexer": "ipython3",
   "version": "3.11.4"
  }
 },
 "nbformat": 4,
 "nbformat_minor": 5
}
