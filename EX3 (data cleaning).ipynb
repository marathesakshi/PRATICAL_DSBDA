{
 "cells": [
  {
   "cell_type": "code",
   "execution_count": 1,
   "id": "7d456602",
   "metadata": {},
   "outputs": [
    {
     "name": "stdout",
     "output_type": "stream",
     "text": [
      "Hello he said and went\n"
     ]
    }
   ],
   "source": [
    "## Data Cleaning \n",
    "# Data cleaning 1  \n",
    "punctuations = '''!()-{}[];:\"'\\,<>./?@#$%^&*_~`''' \n",
    "my_str = \"Hello!!!, he said ...and went.\" \n",
    "no_punct = \"\" \n",
    "for char in my_str: \n",
    "    if(char not in punctuations): \n",
    "        no_punct = no_punct + char \n",
    "print(no_punct)"
   ]
  },
  {
   "cell_type": "code",
   "execution_count": 2,
   "id": "dd994544",
   "metadata": {},
   "outputs": [
    {
     "name": "stdout",
     "output_type": "stream",
     "text": [
      "Hello he said and went\n"
     ]
    }
   ],
   "source": [
    "# Data cleaning 2 \n",
    "import re \n",
    "s = \"Hello!!!, he said ...and went.\" \n",
    "s = re.sub(r'[^\\w\\s]','',s) \n",
    "# not of word and space character \n",
    "print(s)"
   ]
  },
  {
   "cell_type": "code",
   "execution_count": 4,
   "id": "fccc74da",
   "metadata": {},
   "outputs": [
    {
     "name": "stderr",
     "output_type": "stream",
     "text": [
      "[nltk_data] Downloading package punkt to C:\\Users\\SAKSHI\n",
      "[nltk_data]     MARATHE\\AppData\\Roaming\\nltk_data...\n",
      "[nltk_data]   Unzipping tokenizers\\punkt.zip.\n"
     ]
    },
    {
     "name": "stdout",
     "output_type": "stream",
     "text": [
      "['Hello Mr. Pravin, how are you doing today?', 'The weather in lonavala is rainy.', 'The sky is full of cloud.']\n",
      "['Hello', 'Mr.', 'Pravin', ',', 'how', 'are', 'you', 'doing', 'today', '?', 'The', 'weather', 'in', 'lonavala', 'is', 'rainy', '.', 'The', 'sky', 'is', 'full', 'of', 'cloud', '.']\n"
     ]
    }
   ],
   "source": [
    "# Tokanization \n",
    "import nltk \n",
    "nltk.download('punkt') \n",
    "from nltk.tokenize import sent_tokenize, word_tokenize \n",
    "example_text = \"Hello Mr. Pravin, how are you doing today? The weather in lonavala is rainy. The sky is full of cloud.\" \n",
    "print(sent_tokenize(example_text)) \n",
    "print(word_tokenize(example_text)) "
   ]
  },
  {
   "cell_type": "code",
   "execution_count": 5,
   "id": "94233ea0",
   "metadata": {},
   "outputs": [
    {
     "name": "stdout",
     "output_type": "stream",
     "text": [
      "['i', 'me', 'my', 'myself', 'we', 'our', 'ours', 'ourselves', 'you', \"you're\", \"you've\", \"you'll\", \"you'd\", 'your', 'yours', 'yourself', 'yourselves', 'he', 'him', 'his', 'himself', 'she', \"she's\", 'her', 'hers', 'herself', 'it', \"it's\", 'its', 'itself', 'they', 'them', 'their', 'theirs', 'themselves', 'what', 'which', 'who', 'whom', 'this', 'that', \"that'll\", 'these', 'those', 'am', 'is', 'are', 'was', 'were', 'be', 'been', 'being', 'have', 'has', 'had', 'having', 'do', 'does', 'did', 'doing', 'a', 'an', 'the', 'and', 'but', 'if', 'or', 'because', 'as', 'until', 'while', 'of', 'at', 'by', 'for', 'with', 'about', 'against', 'between', 'into', 'through', 'during', 'before', 'after', 'above', 'below', 'to', 'from', 'up', 'down', 'in', 'out', 'on', 'off', 'over', 'under', 'again', 'further', 'then', 'once', 'here', 'there', 'when', 'where', 'why', 'how', 'all', 'any', 'both', 'each', 'few', 'more', 'most', 'other', 'some', 'such', 'no', 'nor', 'not', 'only', 'own', 'same', 'so', 'than', 'too', 'very', 's', 't', 'can', 'will', 'just', 'don', \"don't\", 'should', \"should've\", 'now', 'd', 'll', 'm', 'o', 're', 've', 'y', 'ain', 'aren', \"aren't\", 'couldn', \"couldn't\", 'didn', \"didn't\", 'doesn', \"doesn't\", 'hadn', \"hadn't\", 'hasn', \"hasn't\", 'haven', \"haven't\", 'isn', \"isn't\", 'ma', 'mightn', \"mightn't\", 'mustn', \"mustn't\", 'needn', \"needn't\", 'shan', \"shan't\", 'shouldn', \"shouldn't\", 'wasn', \"wasn't\", 'weren', \"weren't\", 'won', \"won't\", 'wouldn', \"wouldn't\"]\n"
     ]
    },
    {
     "name": "stderr",
     "output_type": "stream",
     "text": [
      "[nltk_data] Downloading package stopwords to C:\\Users\\SAKSHI\n",
      "[nltk_data]     MARATHE\\AppData\\Roaming\\nltk_data...\n",
      "[nltk_data]   Package stopwords is already up-to-date!\n"
     ]
    }
   ],
   "source": [
    "# Stopwords \n",
    "import nltk \n",
    "nltk.download('stopwords') \n",
    "from nltk.corpus import stopwords \n",
    "stop_words = stopwords.words('english') \n",
    "print(stop_words) "
   ]
  },
  {
   "cell_type": "code",
   "execution_count": 6,
   "id": "9c8fc8ab",
   "metadata": {},
   "outputs": [
    {
     "name": "stdout",
     "output_type": "stream",
     "text": [
      "['There', 'are', 'several', 'types', 'of', 'stemming', 'algorithms', '.']\n",
      "there\n",
      "are\n",
      "sever\n",
      "type\n",
      "of\n",
      "stem\n",
      "algorithm\n",
      ".\n"
     ]
    }
   ],
   "source": [
    "# Steming \n",
    "import nltk \n",
    "from nltk.stem import PorterStemmer \n",
    "from nltk.tokenize import word_tokenize \n",
    "stemmer = PorterStemmer() \n",
    "input_str = \"There are several types of stemming algorithms.\" \n",
    "input_str = nltk.word_tokenize(input_str) \n",
    "print (input_str) \n",
    "for word in input_str: \n",
    "    print(stemmer.stem(word)) "
   ]
  },
  {
   "cell_type": "code",
   "execution_count": 7,
   "id": "9a89b785",
   "metadata": {},
   "outputs": [
    {
     "name": "stderr",
     "output_type": "stream",
     "text": [
      "[nltk_data] Downloading package wordnet to C:\\Users\\SAKSHI\n",
      "[nltk_data]     MARATHE\\AppData\\Roaming\\nltk_data...\n"
     ]
    },
    {
     "name": "stdout",
     "output_type": "stream",
     "text": [
      "['There', 'are', 'several', 'cities', 'with', 'mice', '.']\n",
      "There\n",
      "are\n",
      "several\n",
      "city\n",
      "with\n",
      "mouse\n",
      ".\n"
     ]
    }
   ],
   "source": [
    "# Lamitization \n",
    "import nltk \n",
    "nltk.download('wordnet') \n",
    "from nltk.stem import WordNetLemmatizer \n",
    "from nltk.tokenize import word_tokenize \n",
    "lemmatizer = WordNetLemmatizer() \n",
    "input_str = \"There are several cities with mice.\" \n",
    "input_str = nltk.word_tokenize(input_str) \n",
    "print (input_str) \n",
    "for word in input_str: \n",
    "    print(lemmatizer.lemmatize(word)) "
   ]
  },
  {
   "cell_type": "code",
   "execution_count": null,
   "id": "bf303978",
   "metadata": {},
   "outputs": [],
   "source": []
  }
 ],
 "metadata": {
  "kernelspec": {
   "display_name": "Python 3 (ipykernel)",
   "language": "python",
   "name": "python3"
  },
  "language_info": {
   "codemirror_mode": {
    "name": "ipython",
    "version": 3
   },
   "file_extension": ".py",
   "mimetype": "text/x-python",
   "name": "python",
   "nbconvert_exporter": "python",
   "pygments_lexer": "ipython3",
   "version": "3.11.4"
  }
 },
 "nbformat": 4,
 "nbformat_minor": 5
}
